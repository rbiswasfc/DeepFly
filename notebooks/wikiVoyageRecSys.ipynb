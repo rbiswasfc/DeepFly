{
 "cells": [
  {
   "cell_type": "code",
   "execution_count": 11,
   "metadata": {},
   "outputs": [],
   "source": [
    "# Import necessary packages\n",
    "\n",
    "import pandas as pd\n",
    "import numpy as np\n",
    "import string\n",
    "\n",
    "from collections import defaultdict\n",
    "import json\n",
    "import unicodedata\n",
    "import mistune\n",
    "from bs4 import BeautifulSoup # xml data parsing\n",
    "import re # Regular expressions\n",
    "\n",
    "import xmltodict \n",
    "import gc # garbage collection\n",
    "# xmltodict is a library that aims at making XML feel like working with JSON."
   ]
  },
  {
   "cell_type": "markdown",
   "metadata": {},
   "source": [
    "### Wikivoyage provides datadumps to use them in buidling travel guides or any creative applications! Go Crazy!\n",
    "The latest one can be found at: https://dumps.wikimedia.org/enwikivoyage/latest/\n",
    "\n",
    "I have downloaded the *enwikivoyage-latest-pages-articles.xml* file and put it inside the data folder\n",
    "\n",
    "The content should be converted to json for easier handling"
   ]
  },
  {
   "cell_type": "markdown",
   "metadata": {},
   "source": [
    "#### Conversion table between json and python\n",
    "\n",
    "Read: https://realpython.com/python-json/"
   ]
  },
  {
   "cell_type": "code",
   "execution_count": 9,
   "metadata": {},
   "outputs": [],
   "source": [
    "def convert_xml_to_json(fname):\n",
    "    '''\n",
    "    Convert xml data to json\n",
    "    '''\n",
    "    \n",
    "    with open(fname,'r',encoding='utf-8') as f:\n",
    "        xml_str = f.read()      \n",
    "    \n",
    "    data = xmltodict.parse(xml_str)\n",
    "    \n",
    "    json_str = json.dumps(data)   # converts xmltodict output to json\n",
    "    json_d = json.loads(json_str) # Converts the data to python object\n",
    "    \n",
    "    with open('../data/processed/wikidata.json','w') as jdata: # write the structured data into a file with json encoding\n",
    "        json.dump(json_d,jdata, indent=2)\n",
    "    return json_d\n",
    "\n",
    "# Create the json file wikidata.json and store python equivalent of the data into jdata\n",
    "_ = convert_xml_to_json('../data/raw/enwikivoyage-latest-pages-articles.xml') "
   ]
  },
  {
   "cell_type": "code",
   "execution_count": 14,
   "metadata": {},
   "outputs": [],
   "source": [
    "# load the json file. data_all is python dict decoded from json by json.load\n",
    "with open('../data/processed/wikidata.json','r') as f:\n",
    "    data_all = json.load(f)"
   ]
  },
  {
   "cell_type": "markdown",
   "metadata": {},
   "source": [
    "## Data Exploration"
   ]
  },
  {
   "cell_type": "code",
   "execution_count": 15,
   "metadata": {},
   "outputs": [
    {
     "name": "stdout",
     "output_type": "stream",
     "text": [
      "dict_keys(['mediawiki'])\n"
     ]
    }
   ],
   "source": [
    "# data_all is a dictionary. So, let us first look into the keys\n",
    "print(data_all.keys())"
   ]
  },
  {
   "cell_type": "code",
   "execution_count": 16,
   "metadata": {},
   "outputs": [
    {
     "name": "stdout",
     "output_type": "stream",
     "text": [
      "dict_keys(['@xmlns', '@xmlns:xsi', '@xsi:schemaLocation', '@version', '@xml:lang', 'siteinfo', 'page'])\n"
     ]
    }
   ],
   "source": [
    "# Apparently it only has one key. Let us dig in deeper!\n",
    "print(data_all['mediawiki'].keys())"
   ]
  },
  {
   "cell_type": "code",
   "execution_count": 17,
   "metadata": {},
   "outputs": [
    {
     "name": "stdout",
     "output_type": "stream",
     "text": [
      "<class 'list'>\n"
     ]
    }
   ],
   "source": [
    "# load of garbage! We should find out more about all these fields. As of now, 'page' key looks reasonable. \n",
    "# First find out what type of data the 'page' keyword contain\n",
    "print(type(data_all['mediawiki']['page']))"
   ]
  },
  {
   "cell_type": "code",
   "execution_count": 18,
   "metadata": {},
   "outputs": [
    {
     "name": "stdout",
     "output_type": "stream",
     "text": [
      "Number of pages = 62530\n",
      "The first element is: {'title': '1770', 'ns': '0', 'id': '1', 'redirect': {'@title': 'Town of 1770'}, 'revision': {'id': '1', 'timestamp': '2009-03-02T02:54:37Z', 'contributor': {'username': 'Inas', 'id': '1816'}, 'comment': 'otherwise a number just looks weird.. (Import from wikitravel.org/en)', 'model': 'wikitext', 'format': 'text/x-wiki', 'text': {'@xml:space': 'preserve', '#text': '#REDIRECT [[Town of 1770]]'}, 'sha1': 'jjresq501njc7hkah05ux8kk4t1y605'}}\n"
     ]
    }
   ],
   "source": [
    "# So its a list. Let us check the first entry\n",
    "print('Number of pages = {}'.format(len(data_all['mediawiki']['page'])))\n",
    "print('The first element is: {}'.format(data_all['mediawiki']['page'][0]))"
   ]
  },
  {
   "cell_type": "code",
   "execution_count": 21,
   "metadata": {},
   "outputs": [
    {
     "data": {
      "text/plain": [
       "{'title': 'Acailandia',\n",
       " 'ns': '0',\n",
       " 'id': '145',\n",
       " 'redirect': {'@title': 'Açailândia'},\n",
       " 'revision': {'id': '4488',\n",
       "  'timestamp': '2010-02-17T17:45:38Z',\n",
       "  'contributor': {'username': '(WT-en) Burmesedays', 'id': '2571'},\n",
       "  'comment': 'another squiggly driven redirect (Import from wikitravel.org/en)',\n",
       "  'model': 'wikitext',\n",
       "  'format': 'text/x-wiki',\n",
       "  'text': {'@xml:space': 'preserve', '#text': '#REDIRECT [[Açailândia]]'},\n",
       "  'sha1': '1wcaxriuysbnssv3re5p4k88zd8kodj'}}"
      ]
     },
     "execution_count": 21,
     "metadata": {},
     "output_type": "execute_result"
    }
   ],
   "source": [
    "# So the contents of 'page' is stored in a list. Each element of which is a dict! \n",
    "# The first element looks some random thing.\n",
    "data_all['mediawiki']['page'][106]"
   ]
  },
  {
   "cell_type": "markdown",
   "metadata": {},
   "source": [
    "### The keys of each page need to be investigated!\n",
    "\n",
    "* title -- name of the point of interest\n",
    "* timestamp -- time of last edit (maybe?)\n",
    "* contributor -- the author of the page\n",
    "* text -- contains the description. Also a dictionary. The '#text' field contains the actual description!\n",
    "\n",
    "*The 'title' and 'text' fields are of actual use!*"
   ]
  },
  {
   "cell_type": "code",
   "execution_count": 22,
   "metadata": {},
   "outputs": [],
   "source": [
    "# First store the list of pages into articles\n",
    "articles = data_all['mediawiki']['page']"
   ]
  },
  {
   "cell_type": "markdown",
   "metadata": {},
   "source": [
    "#### Let's write some function to clean up the content!\n",
    "\n",
    "* The unicodedata module: contains Unicode character properties, such as character categories, decomposition data, and numerical values.\n",
    "* Learn about unicodes, bytes, and strings in python here: https://www.youtube.com/watch?v=-cmlmaVSONg&t=5s\n",
    "* Unicodedata documentation: https://docs.python.org/2.4/lib/module-unicodedata.html\n",
    "* Handing files with contents in a differnet language: https://www.youtube.com/watch?v=nQkaBiOwsIo\n",
    "* Unicode library explained: https://www.geeksforgeeks.org/unicodedata-unicode-database-python/"
   ]
  },
  {
   "cell_type": "code",
   "execution_count": 23,
   "metadata": {},
   "outputs": [],
   "source": [
    "def rmdiacritics(char):\n",
    "    '''\n",
    "    Return the base character of char, by \"removing\" any\n",
    "    diacritics like accents or curls and strokes and the like.\n",
    "    '''\n",
    "    try:\n",
    "        desc = unicodedata.name(char)\n",
    "        cutoff = desc.find(' WITH ')\n",
    "        if cutoff != -1:\n",
    "            desc = desc[:cutoff]\n",
    "        result = unicodedata.lookup(desc)\n",
    "    except ValueError:\n",
    "        result = char\n",
    "    except KeyError:\n",
    "        result = char\n",
    "    return result\n",
    "\n",
    "\n",
    "def remove_accents(input_str):\n",
    "    nkfd_form = unicodedata.normalize('NFKD', input_str)\n",
    "    #print(nkfd_form)\n",
    "    value = u\"\".join([rmdiacritics(c) for c in nkfd_form])\n",
    "    value = unicodedata.normalize('NFKD', value).encode('ascii','ignore')\n",
    "    return value.decode('utf-8')\n",
    "\n",
    "# Create dictionary of titles that have concatenated names as the values. For example: San Francisco: San_Francisco\n",
    "def clean_word(title):\n",
    "    \n",
    "    value = remove_accents(title)\n",
    "\n",
    "    value = value.replace(' ','_')\n",
    "    #value = value.encode()\n",
    "    return value"
   ]
  },
  {
   "cell_type": "code",
   "execution_count": 24,
   "metadata": {},
   "outputs": [
    {
     "data": {
      "text/plain": [
       "'a_a'"
      ]
     },
     "execution_count": 24,
     "metadata": {},
     "output_type": "execute_result"
    }
   ],
   "source": [
    "# Demonstration of cleaning. satisfied?\n",
    "clean_word('à a')"
   ]
  },
  {
   "cell_type": "code",
   "execution_count": 25,
   "metadata": {},
   "outputs": [],
   "source": [
    "# Now, let us create another dictonary where keys are the travel destinations \n",
    "# Values are the associated description\n",
    "articles_dict = {}\n",
    "for article in articles:\n",
    "    # Lets strip the accents\n",
    "    title = article['title']\n",
    "    title = clean_word(title)\n",
    "    articles_dict[title] = article"
   ]
  },
  {
   "cell_type": "code",
   "execution_count": 26,
   "metadata": {},
   "outputs": [
    {
     "name": "stdout",
     "output_type": "stream",
     "text": [
      "True\n"
     ]
    }
   ],
   "source": [
    "# Check whether a destination is in the database\n",
    "POI = 'Kota_Kinabalu'\n",
    "print (POI in articles_dict.keys())"
   ]
  },
  {
   "cell_type": "markdown",
   "metadata": {},
   "source": [
    "There are a lot of destinations in the articles_dict with little to no description. Additionally, repetitive articles, commonly with titles such as Wikivoyage and Category, offer to real value. Let us delete them entries! Note that:\n",
    "\n",
    "* A Python dictionary throws a *KeyError* if you try to get an item with a key that is not currently in the dictionary. \n",
    "* The *defaultdict* function in contrast simply creates any items that you try to access (provided of course they do not exist yet). "
   ]
  },
  {
   "cell_type": "code",
   "execution_count": 27,
   "metadata": {},
   "outputs": [
    {
     "name": "stdout",
     "output_type": "stream",
     "text": [
      "15\n"
     ]
    },
    {
     "data": {
      "text/plain": [
       "defaultdict(int,\n",
       "            {'Wikivoyage': 1837,\n",
       "             'Itinerary': 1,\n",
       "             'La Manzanilla': 1,\n",
       "             'Poland': 1,\n",
       "             'MediaWiki': 164,\n",
       "             'Template': 1542,\n",
       "             'Help': 9,\n",
       "             'Category': 4676,\n",
       "             'File': 1352,\n",
       "             'Module': 100,\n",
       "             'General/Wikivoyage': 1,\n",
       "             'Wts': 3,\n",
       "             'WP': 1,\n",
       "             'Sites of Japan’s Meiji Industrial Revolution': 1,\n",
       "             'Draft': 1})"
      ]
     },
     "execution_count": 27,
     "metadata": {},
     "output_type": "execute_result"
    }
   ],
   "source": [
    "junk_articles_dict = defaultdict(int) # Initialize with a default dict\n",
    "for article in articles:\n",
    "    title = article['title']\n",
    "    if ':' in title:\n",
    "        junk_articles_dict[title.split(':')[0]] += 1 # Count number of entries with repetitive titles\n",
    "\n",
    "print (len(junk_articles_dict))\n",
    "junk_articles_dict"
   ]
  },
  {
   "cell_type": "code",
   "execution_count": 28,
   "metadata": {},
   "outputs": [
    {
     "name": "stdout",
     "output_type": "stream",
     "text": [
      "Originally there were 62530 articles!\n",
      "Now we have 51253 articles!\n"
     ]
    }
   ],
   "source": [
    "# Create a dictionary with articles without ':' in their titles\n",
    "print ('Originally there were {} articles!'.format(len(articles)))\n",
    "\n",
    "articles_dict = {}\n",
    "for article in articles:\n",
    "    # Lets strip the accents using unicodedata\n",
    "        # Lets strip the accents\n",
    "    title = article['title']\n",
    "    title = clean_word(title)\n",
    "    \n",
    "    if ':' not in title:\n",
    "        articles_dict[title] = article\n",
    "\n",
    "print ('Now we have {} articles!'.format(len(articles_dict)))"
   ]
  },
  {
   "cell_type": "code",
   "execution_count": 29,
   "metadata": {},
   "outputs": [],
   "source": [
    "# Let's find out the length of the associated description for each of these articles\n",
    "# Note that descriptions are stored in '#text' key\n",
    "\n",
    "article_lengths_dict = {}\n",
    "for key, value in articles_dict.items():\n",
    "    try:\n",
    "        article_length = len(value['revision']['text']['#text'])\n",
    "    except:\n",
    "        article_length = -1\n",
    "    article_lengths_dict[key] = article_length"
   ]
  },
  {
   "cell_type": "code",
   "execution_count": 31,
   "metadata": {},
   "outputs": [
    {
     "name": "stdout",
     "output_type": "stream",
     "text": [
      "The description of Chittoor contains 8595 characters!\n"
     ]
    }
   ],
   "source": [
    "# Find out description length of a destination\n",
    "POI = 'Chittoor'\n",
    "if POI in article_lengths_dict.keys():\n",
    "    print('The description of {} contains {} characters!'.format(POI,article_lengths_dict[POI]))\n",
    "else:\n",
    "    print('Sorry, {} is not in the database!'.format(POI))"
   ]
  },
  {
   "cell_type": "code",
   "execution_count": 32,
   "metadata": {},
   "outputs": [],
   "source": [
    "# Lets create a histogram to see the distribution of # of characters\n",
    "# First create a DataFrame for easier data handling\n",
    "\n",
    "df_article_lengths = pd.DataFrame(list(article_lengths_dict.items()),columns=['title','length'])"
   ]
  },
  {
   "cell_type": "code",
   "execution_count": 33,
   "metadata": {},
   "outputs": [],
   "source": [
    "# Check the distribution of entries with size < 10k\n",
    "\n",
    "condition1 = df_article_lengths['length'] < 10000\n",
    "df_article_lengths[condition1].hist(bins=20);"
   ]
  },
  {
   "cell_type": "code",
   "execution_count": 34,
   "metadata": {},
   "outputs": [
    {
     "data": {
      "image/png": "[encoded data removed]",
      "text/plain": [
       "<Figure size 432x288 with 1 Axes>"
      ]
     },
     "metadata": {
      "needs_background": "light"
     },
     "output_type": "display_data"
    }
   ],
   "source": [
    "# Same plot for entries with less than 500 characters\n",
    "\n",
    "condition2 = df_article_lengths['length'] < 500\n",
    "df_article_lengths[condition2].hist(bins=20);"
   ]
  },
  {
   "cell_type": "code",
   "execution_count": 35,
   "metadata": {},
   "outputs": [],
   "source": [
    "# Delete the articles with little to no description\n",
    "cutoff = 100\n",
    "condition3 = df_article_lengths['length'] > cutoff\n",
    "df_article_char_plus = df_article_lengths[condition3]"
   ]
  },
  {
   "cell_type": "code",
   "execution_count": 36,
   "metadata": {},
   "outputs": [],
   "source": [
    "final_titles = df_article_char_plus['title']"
   ]
  },
  {
   "cell_type": "code",
   "execution_count": 47,
   "metadata": {},
   "outputs": [
    {
     "name": "stdout",
     "output_type": "stream",
     "text": [
      "After the clean up job, we have 27497 articles!\n"
     ]
    }
   ],
   "source": [
    "# Lets delete the articles with '(disambiguation)' in their title and make the final dataset\n",
    "\n",
    "final_articles = {}\n",
    "for title in final_titles:\n",
    "    if '(disambiguation)' not in title:\n",
    "        final_articles[title] = articles_dict[title]['revision']['text']['#text']\n",
    "print('After the clean up job, we have {} articles!'.format(len(final_articles)))"
   ]
  },
  {
   "cell_type": "code",
   "execution_count": 38,
   "metadata": {},
   "outputs": [
    {
     "name": "stdout",
     "output_type": "stream",
     "text": [
      "The description of Chittoor: \n",
      " {{pagebanner|Mena-asia_default_banner.jpg}}\n",
      "'''Chittoor''' is a city in [[Andhra Pradesh]], [[India]]. It is the headquarters of [[Chittoor_(district) | Chittoor district]]\n",
      "\n",
      "Chittoor, very close to the revered temple of lord Balaji or Venkateswara at Tirupati, is also close to two eminent wildlife sanctuaries and the famous [[Horsley Hills]], a famous hill resort named after W.D Horsley.\n",
      "\n",
      "Situated in the valley of the '''Ponni river''', Chittoor is a market for grain, sugarcane, and peanuts. Its industries include oilseed and rice milling. '''Jaggery''' from [[Aragonda]] area, a small town near Chittor is famous throughout the country.  Chittor is a major place for producing hatcheries and mangoes. The city is surrounded by mango and tamarind groves, and cattle are bred in the area. A district administrative centre, Chittoor was a British military post until 1884.\n",
      "\n",
      "==Get in==\n",
      "===By bus===\n",
      "From Chennai : Take Route No:144 bus from Chennai Koyembedu Bus Stand (CMBT) or Lalbagh train to K \n",
      " ...\n",
      " ...\n"
     ]
    }
   ],
   "source": [
    "# Let's look into description of a particular place\n",
    "POI = 'Chittoor'\n",
    "if POI in final_articles.keys():\n",
    "    nSize = min(1000,article_lengths_dict[POI])\n",
    "    print('The description of {}: \\n {} \\n ...\\n ...'.format(POI,final_articles[POI][0:nSize]))\n",
    "else:\n",
    "    print('Sorry, {} is not in the database!'.format(POI))"
   ]
  },
  {
   "cell_type": "code",
   "execution_count": 44,
   "metadata": {},
   "outputs": [
    {
     "data": {
      "text/plain": [
       "12719"
      ]
     },
     "execution_count": 44,
     "metadata": {},
     "output_type": "execute_result"
    }
   ],
   "source": [
    "# Detele variables which are not needed anymore\n",
    "del junk_articles_dict\n",
    "del data_all\n",
    "gc.collect()"
   ]
  },
  {
   "cell_type": "markdown",
   "metadata": {},
   "source": [
    "#### As apparent, the descriptions also need some cleaning up. We need to regular expression (re) library. Learn here:\n",
    "* Re tutorial: https://www.youtube.com/watch?v=K8L6KVGG-7o"
   ]
  },
  {
   "cell_type": "code",
   "execution_count": 39,
   "metadata": {},
   "outputs": [],
   "source": [
    "def clean_paragraph(string):\n",
    "    # get rid of https:\n",
    "    m = re.sub(r'(https?://\\S+\\ +\\S+)', '', string)\n",
    "    # get rid of [File:stuff]\n",
    "    m = re.sub(r'\\[File:[^)]*\\]','', m)\n",
    "    # get rid of \\n\n",
    "    m = re.sub(r'(\\n)','', m)\n",
    "    \n",
    "    # get rid of ==stuff==\n",
    "    m = re.sub(r'(\\=+[^)]+\\=+)','', m)\n",
    "    #remove accents\n",
    "    m = remove_accents(m)\n",
    "    #get rid of ], [, '. E.g. [[Paris]] --> Paris\n",
    "    m = re.sub(r'[\\[\\]\\']','',m).strip()\n",
    "\n",
    "    return m\n",
    "\n",
    "def clean_sentence(string):\n",
    "    # punctuation and numbers to be removed\n",
    "    punctuation1 = re.compile(r'[*.?!,\"0-9]')\n",
    "    punctuation2 = re.compile(r'[-:;()|]')\n",
    "    sent = re.sub(punctuation1,'', string)\n",
    "    sent = re.sub(punctuation2, ' ', sent)\n",
    "    return sent"
   ]
  },
  {
   "cell_type": "code",
   "execution_count": 40,
   "metadata": {},
   "outputs": [
    {
     "name": "stdout",
     "output_type": "stream",
     "text": [
      "After paragraph cleaning: \n",
      " seoul-incheon internatio*nal)\n",
      "After sentence cleaning: \n",
      " seoul incheon international \n"
     ]
    }
   ],
   "source": [
    "# Try out here\n",
    "string = 'seoul-incheon [[internatio]]*nal)'\n",
    "nS = clean_paragraph(string)\n",
    "print('After paragraph cleaning: \\n {}'.format(nS))\n",
    "nS = clean_sentence(nS)\n",
    "print('After sentence cleaning: \\n {}'.format(nS))"
   ]
  },
  {
   "cell_type": "code",
   "execution_count": 41,
   "metadata": {},
   "outputs": [
    {
     "name": "stderr",
     "output_type": "stream",
     "text": [
      "[nltk_data] Downloading package punkt to\n",
      "[nltk_data]     /Users/rajabiswas/nltk_data...\n",
      "[nltk_data]   Package punkt is already up-to-date!\n"
     ]
    }
   ],
   "source": [
    "import nltk\n",
    "nltk.download('punkt')\n",
    "from nltk.tokenize import sent_tokenize, word_tokenize"
   ]
  },
  {
   "cell_type": "code",
   "execution_count": 42,
   "metadata": {},
   "outputs": [],
   "source": [
    "# create word tokens\n",
    "import lxml\n",
    "def convert_article_into_list_of_words(article):\n",
    "    \n",
    "    md = mistune.markdown(article,'utf-8')\n",
    "\n",
    "    parsed_md = BeautifulSoup(md, 'html.parser')\n",
    "\n",
    "    parsed_test_wo_dict = []\n",
    "    \n",
    "    #Grab all the paragraphs and lists\n",
    "    for line in parsed_md.find_all(['p','li']):\n",
    "        text = line.text\n",
    "\n",
    "        \n",
    "        #remove dictionaries by filtering on {{\n",
    "        if '{{' not in text:\n",
    "            #clean the paragraph by removing things like https:stuff, File:stuff\n",
    "            text = clean_paragraph(text)\n",
    "            #tokenize paragraph to sentences\n",
    "            sentences = sent_tokenize(text)\n",
    "            \n",
    "            for sentence in sentences:\n",
    "                #clean sentence by removing numbers and punctuations\n",
    "                sent = clean_sentence(sentence).lower()\n",
    "                #convert sentence to list of words\n",
    "                word_list = sent.split()\n",
    "                #keep the sentence if there are more than 3 words.\n",
    "                if len(word_list) > 3:\n",
    "                    parsed_test_wo_dict.append(word_list)\n",
    "    return parsed_test_wo_dict"
   ]
  },
  {
   "cell_type": "code",
   "execution_count": 43,
   "metadata": {},
   "outputs": [],
   "source": [
    "final_articles_words = {}\n",
    "\n",
    "for key, value in final_articles.items():\n",
    "    try:\n",
    "        final_articles_words[key] = convert_article_into_list_of_words(str(value))\n",
    "    except:\n",
    "        final_articles_words[key] = 'tbc'"
   ]
  },
  {
   "cell_type": "code",
   "execution_count": 45,
   "metadata": {},
   "outputs": [
    {
     "data": {
      "text/plain": [
       "815"
      ]
     },
     "execution_count": 45,
     "metadata": {},
     "output_type": "execute_result"
    }
   ],
   "source": []
  },
  {
   "cell_type": "code",
   "execution_count": 48,
   "metadata": {},
   "outputs": [
    {
     "name": "stdout",
     "output_type": "stream",
     "text": [
      "The cleaned up description of Chittoor looks like: \n",
      " [['chittoor', 'very', 'close', 'to', 'the', 'revered', 'temple', 'of', 'lord', 'balaji', 'or', 'venkateswara', 'at', 'tirupati', 'is', 'also', 'close', 'to', 'two', 'eminent', 'wildlife', 'sanctuaries', 'and', 'the', 'famous', 'horsley', 'hills', 'a', 'famous', 'hill', 'resort', 'named', 'after', 'wd', 'horsley'], ['situated', 'in', 'the', 'valley', 'of', 'the', 'ponni', 'river', 'chittoor', 'is', 'a', 'market', 'for', 'grain', 'sugarcane', 'and', 'peanuts']] \n",
      " ...\n",
      " ...\n"
     ]
    }
   ],
   "source": [
    "# Lets look into the cleaned up description\n",
    "POI = 'Chittoor'\n",
    "if POI in final_articles.keys():\n",
    "    nSize = min(2,len(final_articles_words[POI]))\n",
    "    print('The cleaned up description of {} looks like: \\n {} \\n ...\\n ...'.format(POI,final_articles_words[POI][0:nSize]))\n",
    "else:\n",
    "    print('Sorry, {} is not in the database!'.format(POI))"
   ]
  },
  {
   "cell_type": "code",
   "execution_count": 50,
   "metadata": {},
   "outputs": [
    {
     "data": {
      "text/plain": [
       "76"
      ]
     },
     "execution_count": 50,
     "metadata": {},
     "output_type": "execute_result"
    }
   ],
   "source": [
    "del final_articles\n",
    "gc.collect()"
   ]
  },
  {
   "cell_type": "markdown",
   "metadata": {},
   "source": [
    "## Comments:\n",
    "* Looks like a lot of things got deleted, which could be useful. \n",
    "* Task: Find a better way to clean up the descriptions.\n",
    "* Could be useful to categorize the descriptions into 'Get in', 'See', 'Do' etc"
   ]
  },
  {
   "cell_type": "code",
   "execution_count": 51,
   "metadata": {},
   "outputs": [],
   "source": [
    "# Gather only the words by removing []\n",
    "final_DB = {}\n",
    "\n",
    "for key, value in final_articles_words.items():\n",
    "    key = key.lower()\n",
    "    words = []\n",
    "    \n",
    "    for sentence in value:\n",
    "        for word in sentence:\n",
    "            words.append(word.lower())\n",
    "    final_DB[key] = words"
   ]
  },
  {
   "cell_type": "code",
   "execution_count": 53,
   "metadata": {},
   "outputs": [
    {
     "name": "stdout",
     "output_type": "stream",
     "text": [
      "The words in the description of chittoor are: \n",
      " ['chittoor', 'very', 'close', 'to', 'the', 'revered', 'temple', 'of', 'lord', 'balaji', 'or', 'venkateswara', 'at', 'tirupati', 'is', 'also', 'close', 'to', 'two', 'eminent', 'wildlife', 'sanctuaries', 'and', 'the', 'famous', 'horsley', 'hills', 'a', 'famous', 'hill', 'resort', 'named', 'after', 'wd', 'horsley', 'situated', 'in', 'the', 'valley', 'of', 'the', 'ponni', 'river', 'chittoor', 'is', 'a', 'market', 'for', 'grain', 'sugarcane'] \n",
      " ...\n",
      " ...\n"
     ]
    }
   ],
   "source": [
    "# Lets look into the final databade\n",
    "POI = 'Chittoor'\n",
    "POI = POI.lower()\n",
    "if POI in final_DB.keys():\n",
    "    nSize = min(50,len(final_DB[POI]))\n",
    "    print('The words in the description of {} are: \\n {} \\n ...\\n ...'.format(POI,final_DB[POI][0:nSize]))\n",
    "else:\n",
    "    print('Sorry, {} is not in the database!'.format(POI))"
   ]
  },
  {
   "cell_type": "code",
   "execution_count": 55,
   "metadata": {},
   "outputs": [],
   "source": [
    "# Store the final database in json format\n",
    "with open('../data/processed/Final_DB.json','w') as j: # write the structured data into a file with json encoding\n",
    "    json.dump(final_DB,j, indent=2)"
   ]
  },
  {
   "cell_type": "code",
   "execution_count": 56,
   "metadata": {},
   "outputs": [
    {
     "data": {
      "text/plain": [
       "176"
      ]
     },
     "execution_count": 56,
     "metadata": {},
     "output_type": "execute_result"
    }
   ],
   "source": [
    "del final_articles_words\n",
    "gc.collect()"
   ]
  },
  {
   "cell_type": "markdown",
   "metadata": {},
   "source": [
    "## Questions:\n",
    "* How to select the POIs in south east asia?\n",
    "* Seems like some useful descriptions get erased during clean-up. Need to investigate. "
   ]
  },
  {
   "cell_type": "markdown",
   "metadata": {},
   "source": [
    "# Content based filtering"
   ]
  },
  {
   "cell_type": "code",
   "execution_count": 58,
   "metadata": {},
   "outputs": [],
   "source": [
    "# Read the final database in json format\n",
    "with open('../data/processed/Final_DB.json','r') as j: # write the structured data into a file with json encoding\n",
    "    final_db = json.load(j)"
   ]
  },
  {
   "cell_type": "code",
   "execution_count": 65,
   "metadata": {},
   "outputs": [],
   "source": [
    "import matplotlib.pyplot as plt\n",
    "from wordcloud import WordCloud, STOPWORDS # need to install\n",
    "from sklearn.feature_extraction.text import TfidfVectorizer\n",
    "from sklearn.metrics.pairwise import linear_kernel"
   ]
  },
  {
   "cell_type": "code",
   "execution_count": 62,
   "metadata": {},
   "outputs": [],
   "source": [
    "## Load clean descripsions into pandas dataframe\n",
    "DF_db = final_db.copy()\n",
    "My_db = pd.DataFrame(list(DF_db.items()),columns=['Name','Description'])\n",
    "\n",
    "My_db['Description'] = My_db['Description'].apply(' '.join)"
   ]
  },
  {
   "cell_type": "code",
   "execution_count": 63,
   "metadata": {},
   "outputs": [],
   "source": [
    "# Let us now create the description corpus\n",
    "df_desc = ' '.join(My_db['Description'])"
   ]
  },
  {
   "cell_type": "code",
   "execution_count": 66,
   "metadata": {},
   "outputs": [
    {
     "data": {
      "image/png": "[encoded data removed]",
      "text/plain": [
       "<Figure size 1152x576 with 1 Axes>"
      ]
     },
     "metadata": {
      "needs_background": "light"
     },
     "output_type": "display_data"
    }
   ],
   "source": [
    "# Most frequent words in the database\n",
    "df_wordcloud = WordCloud(stopwords = STOPWORDS, background_color = 'white', height = 2000, width = 4000).generate(df_desc)\n",
    "plt.figure(figsize = (16,8))\n",
    "plt.imshow(df_wordcloud)\n",
    "plt.axis('off')\n",
    "plt.show()"
   ]
  },
  {
   "cell_type": "code",
   "execution_count": 67,
   "metadata": {},
   "outputs": [],
   "source": [
    "# TF-iDF\n",
    "tf = TfidfVectorizer(analyzer = 'word', ngram_range = (1, 2), min_df = 0, stop_words = 'english',max_features = 10000)\n",
    "tfidf_matrix = tf.fit_transform(My_db['Description'])"
   ]
  },
  {
   "cell_type": "code",
   "execution_count": 68,
   "metadata": {},
   "outputs": [],
   "source": [
    "# Find similarities between the places\n",
    "cosine_similarities = linear_kernel(tfidf_matrix, tfidf_matrix)"
   ]
  },
  {
   "cell_type": "code",
   "execution_count": 69,
   "metadata": {},
   "outputs": [],
   "source": [
    "# (optional)\n",
    "# Iterate through each item's similar items and store the 100 most-similar!\n",
    "# Results stores top 10 similar items accompanied with their similarity score\n",
    "results = {}\n",
    "\n",
    "for idx, row in My_db.iterrows():\n",
    "    sim_idx = cosine_similarities[idx].argsort()[:-10:-1]\n",
    "    sim_poi = [(My_db['Name'][i],cosine_similarities[idx][i]) for i in sim_idx]\n",
    "    results[row['Name']] = sim_poi[1:]"
   ]
  },
  {
   "cell_type": "code",
   "execution_count": 70,
   "metadata": {},
   "outputs": [],
   "source": [
    "# Find index of a place in My_db\n",
    "def find_index(poi,db):\n",
    "    for idx, row in db.iterrows():\n",
    "        if(poi == row[0]):\n",
    "            return idx\n",
    "            break\n",
    "    return -1"
   ]
  },
  {
   "cell_type": "markdown",
   "metadata": {},
   "source": [
    "## Let's make predictions"
   ]
  },
  {
   "cell_type": "code",
   "execution_count": 72,
   "metadata": {},
   "outputs": [
    {
     "name": "stdin",
     "output_type": "stream",
     "text": [
      "How many places have you visited: 6\n",
      "Enter a POI: Brugge\n",
      "Fail! Try another one: 6 more to go: Ghent\n",
      "Success! Enter another POI, 5 more to go: Palamner\n",
      "Fail! Try another one: 5 more to go: Brussels\n",
      "Success! Enter another POI, 4 more to go: Capri\n",
      "Success! Enter another POI, 3 more to go: Java\n",
      "Success! Enter another POI, 2 more to go: Panama\n",
      "Fail! Try another one: 2 more to go: Patagonia\n",
      "Success! Enter another POI, 1 more to go: Amristar\n",
      "Fail! Try another one: 1 more to go: Amritsar\n"
     ]
    },
    {
     "name": "stdout",
     "output_type": "stream",
     "text": [
      "\n",
      " You have entered: \n",
      "\n",
      "['ghent', 'brussels', 'capri', 'java', 'patagonia', 'amritsar']\n",
      "\n",
      " The id of these places: \n",
      "\n",
      "[6686, 2544, 3037, 8560, 21643, 514]\n",
      "Top Recommendations: \n",
      "\n",
      "\n",
      " BELGIUM with score of = 0.28\n",
      "\n",
      " LEUVEN with score of = 0.25\n",
      "\n",
      " KORTRIJK with score of = 0.24\n",
      "\n",
      " BRUGES with score of = 0.23\n",
      "\n",
      " KRAAINEM with score of = 0.23\n",
      "\n",
      " INDONESIA with score of = 0.22\n",
      "\n",
      " FLANDERS with score of = 0.22\n",
      "\n",
      " WESTERN_JAVA with score of = 0.21\n",
      "\n",
      " CENTRAL_JAVA with score of = 0.2\n",
      "\n",
      " EAST_JAVA with score of = 0.2\n",
      "\n",
      " SEMARANG with score of = 0.2\n",
      "\n",
      " MECHELEN with score of = 0.2\n",
      "\n",
      " NETHERLANDS with score of = 0.19\n",
      "\n",
      " CHILE with score of = 0.19\n",
      "\n",
      " SEVILLE with score of = 0.19\n",
      "\n",
      " BLITAR with score of = 0.19\n",
      "\n",
      " NORTH_COAST_(WEST_JAVA) with score of = 0.18\n",
      "\n",
      " NICE with score of = 0.18\n",
      "\n",
      " OUDENAARDE with score of = 0.18\n",
      "\n",
      " JAKARTA with score of = 0.18\n"
     ]
    }
   ],
   "source": [
    "# Asks users to enter 5 places they have visted to make predictions\n",
    "count = 0\n",
    "poi_names = []\n",
    "poi_index = []\n",
    "\n",
    "\n",
    "NP = input('How many places have you visited:')\n",
    "NP = int(NP)\n",
    "\n",
    "POI = input('Enter a POI:')\n",
    "POI = POI.lower()\n",
    "  \n",
    "while count< int(NP):\n",
    "    \n",
    "    if POI in final_DB.keys():\n",
    "        count = count + 1\n",
    "        poi_names.append(POI)\n",
    "        poi_index.append(find_index(POI,My_db))\n",
    "        if count<int(NP):\n",
    "            POI = input('Success! Enter another POI, {} more to go:'.format(NP-count))\n",
    "            POI = POI.lower()\n",
    "    else:\n",
    "        POI = input('Fail! Try another one: {} more to go:'.format(NP-count))\n",
    "        POI = POI.lower()\n",
    "    \n",
    "print('\\n You have entered: \\n')\n",
    "print(poi_names)\n",
    "print('\\n The id of these places: \\n')\n",
    "print(poi_index)\n",
    "\n",
    "\n",
    "\n",
    "## Recommend\n",
    "\n",
    "\n",
    "# Build use profile by taking average\n",
    "for i, idx in enumerate(poi_index):\n",
    "    if i == 0:\n",
    "        usr_prof = tfidf_matrix[idx,:]\n",
    "    else:\n",
    "        usr_prof = usr_prof + tfidf_matrix[idx,:]\n",
    "usr_prof = usr_prof/5.0\n",
    "\n",
    "# Compute similarity scores for the user profile\n",
    "SIM =np.squeeze(linear_kernel(usr_prof,tfidf_matrix)) \n",
    "ind_sim = SIM.argsort()\n",
    "ind_sim = ind_sim[::-1]\n",
    "# Recommend\n",
    "N = 20 # top N places\n",
    "count = 0\n",
    "i = 0\n",
    "print('Top Recommendations: \\n')\n",
    "\n",
    "while (count <N):\n",
    "    idx = ind_sim[i]\n",
    "    if idx in poi_index: # already given by user\n",
    "        i = i+1\n",
    "    else:\n",
    "        print('\\n {} with score of = {}'.format(My_db.loc[idx]['Name'].upper(),round(SIM[idx],2)))\n",
    "        count = count + 1\n",
    "        i = i + 1"
   ]
  },
  {
   "cell_type": "code",
   "execution_count": null,
   "metadata": {},
   "outputs": [],
   "source": []
  },
  {
   "cell_type": "code",
   "execution_count": null,
   "metadata": {},
   "outputs": [],
   "source": []
  },
  {
   "cell_type": "code",
   "execution_count": null,
   "metadata": {},
   "outputs": [],
   "source": []
  },
  {
   "cell_type": "code",
   "execution_count": null,
   "metadata": {},
   "outputs": [],
   "source": []
  },
  {
   "cell_type": "code",
   "execution_count": null,
   "metadata": {},
   "outputs": [],
   "source": []
  },
  {
   "cell_type": "code",
   "execution_count": null,
   "metadata": {},
   "outputs": [],
   "source": []
  },
  {
   "cell_type": "code",
   "execution_count": null,
   "metadata": {},
   "outputs": [],
   "source": []
  },
  {
   "cell_type": "code",
   "execution_count": null,
   "metadata": {},
   "outputs": [],
   "source": []
  }
 ],
 "metadata": {
  "kernelspec": {
   "display_name": "DeepFly",
   "language": "python",
   "name": "deepfly"
  },
  "language_info": {
   "codemirror_mode": {
    "name": "ipython",
    "version": 3
   },
   "file_extension": ".py",
   "mimetype": "text/x-python",
   "name": "python",
   "nbconvert_exporter": "python",
   "pygments_lexer": "ipython3",
   "version": "3.7.3"
  }
 },
 "nbformat": 4,
 "nbformat_minor": 2
}
